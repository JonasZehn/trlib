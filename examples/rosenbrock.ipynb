{
 "metadata": {
  "kernelspec": {
   "display_name": "Python 2",
   "language": "python",
   "name": "python2"
  },
  "language_info": {
   "codemirror_mode": {
    "name": "ipython",
    "version": 2
   },
   "file_extension": ".py",
   "mimetype": "text/x-python",
   "name": "python",
   "nbconvert_exporter": "python",
   "pygments_lexer": "ipython2",
   "version": "2.7.11+"
  },
  "name": "",
  "signature": "sha256:0427edb869187048c4ac6d5922880ffd599355b7b9a054093e53901521fa3acb"
 },
 "nbformat": 3,
 "nbformat_minor": 0,
 "worksheets": [
  {
   "cells": [
    {
     "cell_type": "code",
     "collapsed": false,
     "input": [
      "import scipy.optimize\n",
      "import numpy as np\n",
      "import umin"
     ],
     "language": "python",
     "metadata": {},
     "outputs": []
    },
    {
     "cell_type": "code",
     "collapsed": false,
     "input": [
      "n = 100\n",
      "x, totalit_ll = umin.standard_tr_unconstrained(scipy.optimize.rosen, scipy.optimize.rosen_der, scipy.optimize.rosen_hess_prod,\n",
      "                                   np.zeros(n), umin.qpsolver_low_level)"
     ],
     "language": "python",
     "metadata": {},
     "outputs": []
    },
    {
     "cell_type": "code",
     "collapsed": false,
     "input": [
      "n = 100\n",
      "x, totalit_dr = umin.standard_tr_unconstrained(scipy.optimize.rosen, scipy.optimize.rosen_der, scipy.optimize.rosen_hess_prod,\n",
      "                                   np.zeros(n), umin.qpsolver_driver)"
     ],
     "language": "python",
     "metadata": {},
     "outputs": []
    },
    {
     "cell_type": "code",
     "collapsed": false,
     "input": [
      "# Print total iteration numbers\n",
      "# driver interface does not allow hotstarts and thus yields a larger number of iterations\n",
      "print(totalit_ll, totalit_dr)"
     ],
     "language": "python",
     "metadata": {},
     "outputs": []
    },
    {
     "cell_type": "code",
     "collapsed": false,
     "input": [],
     "language": "python",
     "metadata": {},
     "outputs": []
    }
   ],
   "metadata": {}
  }
 ]
}